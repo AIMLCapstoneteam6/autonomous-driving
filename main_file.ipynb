{
 "cells": [
  {
   "cell_type": "code",
   "execution_count": 1,
   "metadata": {
    "colab": {
     "base_uri": "https://localhost:8080/",
     "height": 188
    },
    "colab_type": "code",
    "id": "Ahr1-1wo5IdF",
    "outputId": "96914f16-b4ee-47be-9457-8f3fefece3e3"
   },
   "outputs": [
    {
     "name": "stdout",
     "output_type": "stream",
     "text": [
      "TensorFlow 1.x selected.\n"
     ]
    },
    {
     "name": "stderr",
     "output_type": "stream",
     "text": [
      "/usr/local/lib/python3.6/dist-packages/statsmodels/tools/_testing.py:19: FutureWarning: pandas.util.testing is deprecated. Use the functions in the public API at pandas.testing instead.\n",
      "  import pandas.util.testing as tm\n",
      "Using TensorFlow backend.\n"
     ]
    },
    {
     "name": "stdout",
     "output_type": "stream",
     "text": [
      "Go to this URL in a browser: https://accounts.google.com/o/oauth2/auth?client_id=947318989803-6bn6qk8qdgf4n4g3pfee6491hc0brc4i.apps.googleusercontent.com&redirect_uri=urn%3aietf%3awg%3aoauth%3a2.0%3aoob&response_type=code&scope=email%20https%3a%2f%2fwww.googleapis.com%2fauth%2fdocs.test%20https%3a%2f%2fwww.googleapis.com%2fauth%2fdrive%20https%3a%2f%2fwww.googleapis.com%2fauth%2fdrive.photos.readonly%20https%3a%2f%2fwww.googleapis.com%2fauth%2fpeopleapi.readonly\n",
      "\n",
      "Enter your authorization code:\n",
      "··········\n",
      "Mounted at /content/drive\n"
     ]
    }
   ],
   "source": [
    "%tensorflow_version 1.x\n",
    "\n",
    "import numpy as np\n",
    "import matplotlib.pyplot as plt\n",
    "import seaborn as sn\n",
    "import glob\n",
    "import cv2\n",
    "\n",
    "import tensorflow as tf\n",
    "from tensorflow.math import confusion_matrix\n",
    "import keras\n",
    "from keras.optimizers import *\n",
    "from keras.callbacks import ModelCheckpoint\n",
    "from keras.models import Model,Sequential\n",
    "from keras.layers import BatchNormalization,Add\n",
    "from keras.regularizers import l2,l1\n",
    "from keras.layers.convolutional import Conv2D,Conv2DTranspose\n",
    "from keras.applications import *\n",
    "from keras.layers.core import Activation  \n",
    "from keras.backend import tensorflow_backend as kb\n",
    "from keras.callbacks import EarlyStopping,ModelCheckpoint,ReduceLROnPlateau\n",
    "\n",
    "from google.colab import drive\n",
    "drive.mount('/content/drive') "
   ]
  },
  {
   "cell_type": "code",
   "execution_count": 0,
   "metadata": {
    "colab": {},
    "colab_type": "code",
    "id": "k4FkJx9t9EkC"
   },
   "outputs": [],
   "source": [
    "## details of thge input image\n",
    "input_shape = (512,512,3)\n",
    "weightpath = 'imagenet'\n",
    "n_classes = 12\n",
    "\n",
    "## color map instruction\n",
    "label_value = np.array([[0,0,0],[70,70,70],[153,153,190],[160, 170, 250],[153, 153, 153],[50, 234, 157],[128, 64, 128],[232, 35, 244],[35, 142, 107],[142, 0, 0],[156, 102, 102],[0, 220, 220]])\n",
    "label_class = np.array(['Unlabeled','Building','Fence','Other','Pole','Road line','Road','Sidewalk','Vegetation','Car','Wall','Traffic sign'])\n",
    "\n",
    "## path for target and input images\n",
    "path_y = \"/content/drive/My Drive/dataset/carla seg_images/segsumma/\"\n",
    "path_x = \"/content/drive/My Drive/dataset/carla seg_images/rgbsumma/\""
   ]
  },
  {
   "cell_type": "code",
   "execution_count": 3,
   "metadata": {
    "colab": {
     "base_uri": "https://localhost:8080/",
     "height": 608
    },
    "colab_type": "code",
    "id": "BcK1ufyi5tR8",
    "outputId": "0e5d26f0-c214-4870-9719-368909d0c6ae"
   },
   "outputs": [
    {
     "name": "stdout",
     "output_type": "stream",
     "text": [
      "WARNING:tensorflow:From /usr/local/lib/python3.6/dist-packages/keras/backend/tensorflow_backend.py:66: The name tf.get_default_graph is deprecated. Please use tf.compat.v1.get_default_graph instead.\n",
      "\n",
      "WARNING:tensorflow:From /usr/local/lib/python3.6/dist-packages/keras/backend/tensorflow_backend.py:541: The name tf.placeholder is deprecated. Please use tf.compat.v1.placeholder instead.\n",
      "\n",
      "WARNING:tensorflow:From /usr/local/lib/python3.6/dist-packages/keras/backend/tensorflow_backend.py:4432: The name tf.random_uniform is deprecated. Please use tf.random.uniform instead.\n",
      "\n",
      "WARNING:tensorflow:From /usr/local/lib/python3.6/dist-packages/keras/backend/tensorflow_backend.py:4267: The name tf.nn.max_pool is deprecated. Please use tf.nn.max_pool2d instead.\n",
      "\n",
      "Downloading data from https://github.com/fchollet/deep-learning-models/releases/download/v0.1/vgg16_weights_tf_dim_ordering_tf_kernels_notop.h5\n",
      "58892288/58889256 [==============================] - 5s 0us/step\n",
      "WARNING:tensorflow:From /usr/local/lib/python3.6/dist-packages/keras/backend/tensorflow_backend.py:190: The name tf.get_default_session is deprecated. Please use tf.compat.v1.get_default_session instead.\n",
      "\n",
      "WARNING:tensorflow:From /usr/local/lib/python3.6/dist-packages/keras/backend/tensorflow_backend.py:197: The name tf.ConfigProto is deprecated. Please use tf.compat.v1.ConfigProto instead.\n",
      "\n",
      "WARNING:tensorflow:From /usr/local/lib/python3.6/dist-packages/keras/backend/tensorflow_backend.py:203: The name tf.Session is deprecated. Please use tf.compat.v1.Session instead.\n",
      "\n",
      "WARNING:tensorflow:From /usr/local/lib/python3.6/dist-packages/keras/backend/tensorflow_backend.py:207: The name tf.global_variables is deprecated. Please use tf.compat.v1.global_variables instead.\n",
      "\n",
      "WARNING:tensorflow:From /usr/local/lib/python3.6/dist-packages/keras/backend/tensorflow_backend.py:216: The name tf.is_variable_initialized is deprecated. Please use tf.compat.v1.is_variable_initialized instead.\n",
      "\n",
      "WARNING:tensorflow:From /usr/local/lib/python3.6/dist-packages/keras/backend/tensorflow_backend.py:223: The name tf.variables_initializer is deprecated. Please use tf.compat.v1.variables_initializer instead.\n",
      "\n",
      "Downloading data from https://github.com/fchollet/deep-learning-models/releases/download/v0.1/vgg19_weights_tf_dim_ordering_tf_kernels_notop.h5\n",
      "80142336/80134624 [==============================] - 6s 0us/step\n",
      "WARNING:tensorflow:From /usr/local/lib/python3.6/dist-packages/keras/backend/tensorflow_backend.py:4479: The name tf.truncated_normal is deprecated. Please use tf.random.truncated_normal instead.\n",
      "\n",
      "WARNING:tensorflow:From /usr/local/lib/python3.6/dist-packages/keras/backend/tensorflow_backend.py:2041: The name tf.nn.fused_batch_norm is deprecated. Please use tf.compat.v1.nn.fused_batch_norm instead.\n",
      "\n",
      "WARNING:tensorflow:From /usr/local/lib/python3.6/dist-packages/keras/backend/tensorflow_backend.py:148: The name tf.placeholder_with_default is deprecated. Please use tf.compat.v1.placeholder_with_default instead.\n",
      "\n"
     ]
    },
    {
     "name": "stderr",
     "output_type": "stream",
     "text": [
      "/usr/local/lib/python3.6/dist-packages/keras_applications/resnet50.py:265: UserWarning: The output shape of `ResNet50(include_top=False)` has been changed since Keras 2.2.0.\n",
      "  warnings.warn('The output shape of `ResNet50(include_top=False)` '\n"
     ]
    },
    {
     "name": "stdout",
     "output_type": "stream",
     "text": [
      "Downloading data from https://github.com/fchollet/deep-learning-models/releases/download/v0.2/resnet50_weights_tf_dim_ordering_tf_kernels_notop.h5\n",
      "94658560/94653016 [==============================] - 7s 0us/step\n"
     ]
    }
   ],
   "source": [
    "cnn_models = {'vgg16' : vgg16.VGG16(include_top = False,weights = weightpath,pooling = None,input_shape = input_shape),\n",
    "              'vgg19' : vgg19.VGG19(include_top = False,weights = weightpath,pooling = None,input_shape = input_shape),\n",
    "              'resnet' : resnet50.ResNet50(include_top = False,weights = weightpath,pooling = None,input_shape = input_shape),\n",
    "              'unet' : Unet()}"
   ]
  },
  {
   "cell_type": "code",
   "execution_count": 0,
   "metadata": {
    "colab": {},
    "colab_type": "code",
    "id": "bZY5S1zG8MuE"
   },
   "outputs": [],
   "source": [
    "## architecture for Unet\n",
    "## added L2 regularization in some of the layers to prevent overfitting\n",
    "def Unet():\n",
    "  \n",
    "    Input = Input(input_shape, name='input')\n",
    "\n",
    "    c1 = Conv2D(8, (3, 3), activation='relu', padding='same' (Input)\n",
    "    c1 = Conv2D(8, (3, 3), activation='relu', padding='same') (c1)\n",
    "    p1 = MaxPooling2D((2, 2)) (c1)\n",
    "\n",
    "    c2 = Conv2D(16, (3, 3), activation='relu', padding='same') (p1)\n",
    "    c2 = Conv2D(16, (3, 3), activation='relu', padding='same') (c2)\n",
    "    p2 = MaxPooling2D((2, 2)) (c2)\n",
    "\n",
    "    c3 = Conv2D(32, (3, 3), activation='relu', padding='same',kernel_regularizer = l2(0.01)) (p2)\n",
    "    c3 = Conv2D(32, (3, 3), activation='relu', padding='same',kernel_regularizer = l2(0.01)) (c3)\n",
    "    p3 = MaxPooling2D((2, 2)) (c3)\n",
    "\n",
    "    c4 = Conv2D(64, (3, 3), activation='relu', padding='same',kernel_regularizer = l2(0.01)) (p3)\n",
    "    c4 = Conv2D(64, (3, 3), activation='relu', padding='same',kernel_regularizer = l2(0.01)) (c4)\n",
    "\n",
    "    u5 = Conv2DTranspose(64, (2, 2), strides=(2, 2), padding='same')(c4)\n",
    "    u5 = concatenate([u5, c3])\n",
    "    c6 = Conv2D(32, (3, 3), activation='relu', padding='same',kernel_regularizer = l2(0.01)) (u5)\n",
    "    c6 = Conv2D(32, (3, 3), activation='relu', padding='same',kernel_regularizer = l2(0.01)) (c6)\n",
    "\n",
    "    u7 = Conv2DTranspose(32, (2, 2), strides=(2, 2), padding='same') (c6)\n",
    "    u7 = concatenate([u7, c2])\n",
    "    c7 = Conv2D(16, (3, 3), activation='relu', padding='same',kernel_regularizer = l2(0.01)) (u7)\n",
    "    c7 = Conv2D(16, (3, 3), activation='relu', padding='same',kernel_regularizer = l2(0.01)) (c7)\n",
    "\n",
    "    u8 = Conv2DTranspose(16, (2, 2), strides=(2, 2), padding='same') (c7)\n",
    "    u8 = concatenate([u8, c1])\n",
    "    c8 = Conv2D(8, (3, 3), activation='relu', padding='same',kernel_regularizer = l2(0.01)) (u8)\n",
    "    c8 = Conv2D(8, (3, 3), activation='relu', padding='same',kernel_regularizer = l2(0.01)) (c8)\n",
    "\n",
    "    output = Conv2D(n_classes, (1, 1), activation='softmax',name='output') (c8)\n",
    "\n",
    "    model = Model(Input,output)\n",
    "    return model"
   ]
  },
  {
   "cell_type": "code",
   "execution_count": 0,
   "metadata": {
    "colab": {},
    "colab_type": "code",
    "id": "fu_C--LB-FQj"
   },
   "outputs": [],
   "source": [
    "def build_model(model_name):\n",
    "\n",
    "  base_model = base_cnn_model(model_name)\n",
    "\n",
    "  layer_op = base_model.output\n",
    "\n",
    "  if model_name == 'resnet': skip_1,skip_2 = base_model.get_layer('add_13').output,base_model.get_layer('add_7').output\n",
    "  elif model_name == 'unet': model = base_model\n",
    "  else: skip_1,skip_2 = base_model.get_layer('block4_pool').output,base_model.get_layer('block3_pool').output\n",
    "\n",
    "  layer_encoder = Conv2D(4096,(7,7),padding = 'same',activation = 'relu',kernel_regularizer = l2(0.01),name = 'conv6')(layer_op)\n",
    "  layer_encoder = Conv2D(4096,(1,1),padding = 'same',activation = 'relu',kernel_regularizer = l2(0.01),name = 'conv7')(layer_encoder)\n",
    "\n",
    "  layer_decoder = Conv2DTranspose(skip_1.get_shape().as_list()[-1],(4,4),strides = (2,2),padding = 'same',kernel_regularizer = l2(0.01),name = 'deconv1')(layer_encoder)\n",
    "  layer_decoder = Add(name = 'skip1')([layer_decoder,skip_1])\n",
    "  layer_decoder = Conv2DTranspose(skip_2.get_shape().as_list()[-1],(4,4),strides = (2,2),padding = 'same',kernel_regularizer = l2(0.01),name = 'deconv2')(layer_decoder)\n",
    "  layer_decoder = Add(name = 'skip2')([layer_decoder,skip_2])\n",
    "  layer_decoder = Conv2DTranspose(n_classes,(16,16),strides = (8,8),padding = 'same',kernel_regularizer = l2(0.01),name = 'deconv3')(layer_decoder)\n",
    "  \n",
    "  output = Activation('softmax')(layer_decoder)\n",
    "\n",
    "  model = Model(base_model.input,output)\n",
    "  model.summary()\n",
    "\n",
    "  return model"
   ]
  },
  {
   "cell_type": "code",
   "execution_count": 0,
   "metadata": {
    "colab": {},
    "colab_type": "code",
    "id": "ymVMgxwK-ixK"
   },
   "outputs": [],
   "source": [
    "## customized loss function particularly for class imbalance\n",
    "def weighted_loss(y_true,y_pred):\n",
    "  ## alpha takes class weights,1 if no class imbalance\n",
    "  alpha,beta = 1. , 2.\n",
    "\n",
    "  eps = kb.epsilon()\n",
    "\n",
    "  ## clipping the predicted class probability values with eps inorder to prevent exploding numbers, eps < y_pred < 1-eps \n",
    "  y_pred = kb.clip(y_pred,eps,1.-eps)\n",
    "\n",
    "  ## normal categorical cross-entropy --> Yt*log(Yp)\n",
    "  ce = -(y_true * kb.log(y_pred))\n",
    "    \n",
    "  ## adding the weightage factors --> alpha and (1-Yp)^beta\n",
    "  weighted_ce = alpha * kb.pow(1.-y_pred,beta) * ce \n",
    "    \n",
    "  ## since the output is an image with loss for each pixels, adding the loss for each pixel per image\n",
    "  for i in range(3): \n",
    "    weighted_ce = kb.sum(weighted_ce,axis = -1)\n",
    "    \n",
    "  ## finally taking avg. over the mini-batch\n",
    "  batch_weighted_ce = (kb.mean(weighted_ce,axis = 0)/10)\n",
    "\n",
    "  return batch_weighted_ce"
   ]
  },
  {
   "cell_type": "code",
   "execution_count": 0,
   "metadata": {
    "colab": {},
    "colab_type": "code",
    "id": "vgPa7Oue_Sjq"
   },
   "outputs": [],
   "source": [
    "def train_model(train_x,train_y,val_x,val_y,model,lr = 0.001,b1 = 0.9,b2 = 0.999,batch_size = 32,epochs = 30,x = 6):\n",
    "\n",
    "  for i in range(1,x+1): model.layers[i].trainable = False\n",
    "\n",
    "  callbacks = [ EarlyStopping(monitor = 'val_loss',patience = 9,min_delta = 0.01),ModelCheckpoint('seg_model.h5',monitor = 'val_loss',save_best_only = True),ReduceLROnPlateau(monitor = 'val_loss',patience = 9) ]\n",
    "\n",
    "  optimizer = Adam(lr = lr,beta_1 = b1,beta_2 = b2)\n",
    "\n",
    "  model.compile(optimizer = optimizer,loss = weighted_loss,metrics = [mIoU])\n",
    "  model.fit(train_x,train_y,batch_size = batch_size,callbacks = callbacks,epochs = epochs,validation_data = (val_x,val_y))\n",
    "\n",
    "  return model"
   ]
  },
  {
   "cell_type": "code",
   "execution_count": 0,
   "metadata": {
    "colab": {},
    "colab_type": "code",
    "id": "4Aq2eCpB3qF1"
   },
   "outputs": [],
   "source": [
    "## mean intersection over union, a metric \n",
    "def mIoU(Y_true, Y_pred):\n",
    "\n",
    "  # ytrue, ypred is a flatten vector\n",
    "  Y_pred = kb.flatten(kb.argmax(Y_pred,axis = -1))\n",
    "  Y_true = kb.flatten(kb.argmax(Y_true,axis = -1))\n",
    "  # getting confusion matrix \n",
    "  con_mat = confusion_matrix(Y_true, Y_pred, num_classes = n_classes)\n",
    "  # convert to float value\n",
    "  con_mat = kb.cast(con_mat, kb.floatx())\n",
    "  # compute mean iou\n",
    "  intersection = kb.sum(con_mat * kb.eye(n_classes), axis=-1)\n",
    "  ground_truth_set = kb.sum(con_mat,axis = 1)\n",
    "  predicted_set = kb.sum(con_mat,axis = 0)\n",
    "  union = ground_truth_set + predicted_set - intersection\n",
    "  IoU = intersection/union\n",
    "  \n",
    "  return kb.mean(IoU)"
   ]
  },
  {
   "cell_type": "code",
   "execution_count": 0,
   "metadata": {
    "colab": {},
    "colab_type": "code",
    "id": "23uq8fVGOps5"
   },
   "outputs": [],
   "source": [
    "def pixel_accuracy(Y_true,Y_pred):\n",
    "  \n",
    "  # flattening the values and getting the class index\n",
    "  Y_pred = kb.flatten(kb.argmax(Y_pred,axis = -1))\n",
    "  Y_true = kb.flatten(kb.argmax(Y_true,axis = -1))\n",
    "  # build a confusion matrix \n",
    "  con_mat = confusion_matrix(Y_true,Y_pred,num_classes = n_classes)\n",
    "  # get them as float values\n",
    "  con_mat = kb.cast(con_mat, kb.floatx())\n",
    "  # extract the number of correct guesses from the diagonal\n",
    "  correct = kb.sum(con_mat * kb.eye(n_classes), axis=-1)\n",
    "  # extract the number of total values per class from ground truth\n",
    "  total = kb.sum(con_mat, axis=-1)\n",
    "  # per class accuracy\n",
    "  class_acc = (correct/total)\n",
    "  # calculate the total accuracy\n",
    "  return (kb.sum(correct) / kb.sum(total))\n"
   ]
  },
  {
   "cell_type": "code",
   "execution_count": 0,
   "metadata": {
    "colab": {},
    "colab_type": "code",
    "id": "wsrtRHKrvFCw"
   },
   "outputs": [],
   "source": [
    "## converting target image data to one-hot before passing to the model and vice-versa\n",
    "def convert_image(data1,data2,data3,data4):\n",
    "\n",
    "  for i in range(data1.shape[0]):\n",
    "    for j in range(data1.shape[1]):\n",
    "      for k in range(data1.shape[2]):\n",
    "        for c in range(n_classes):\n",
    "          if max(abs(data1[i,j,k]-data2[c])) == 0: \n",
    "            data4[i,j,k] = data3[c]\n",
    "            break\n",
    "  return data4      \n"
   ]
  },
  {
   "cell_type": "code",
   "execution_count": 11,
   "metadata": {
    "colab": {
     "base_uri": "https://localhost:8080/",
     "height": 50
    },
    "colab_type": "code",
    "id": "ZmclxZChw8uH",
    "outputId": "73cb1c92-08c1-4d51-94f3-6f897524595a"
   },
   "outputs": [
    {
     "name": "stdout",
     "output_type": "stream",
     "text": [
      "(4, 512, 512, 3)\n",
      "(4, 512, 512, 3)\n"
     ]
    }
   ],
   "source": [
    "## reading the data from image\n",
    "data_y = np.array([cv2.imread(filename,cv2.IMREAD_COLOR) for filename in glob.glob(path_y+'*.png')])\n",
    "data_x = np.array([cv2.imread(filename,cv2.IMREAD_COLOR) for filename in glob.glob(path_x+'*.png')])\n",
    " \n",
    "print(data_x.shape)\n",
    "print(data_y.shape)"
   ]
  },
  {
   "cell_type": "code",
   "execution_count": 0,
   "metadata": {
    "colab": {},
    "colab_type": "code",
    "id": "Dkgoh9bO4uAm"
   },
   "outputs": [],
   "source": [
    "data_y_1hot = np.zeros([data_y.shape[0],data_y.shape[1],data_y.shape[2],n_classes])\n",
    "label_1hot = tf.one_hot([0,1,2,3,4,5,6,7,8,9,10,11],depth = n_classes)\n",
    "\n",
    "label_1hot = label_1hot.eval(session=tf.Session())\n",
    "\n",
    "data_y_1hot = convert_image(data_y,label_value,label_1hot,data_y_1hot)"
   ]
  },
  {
   "cell_type": "code",
   "execution_count": 0,
   "metadata": {
    "colab": {},
    "colab_type": "code",
    "id": "kVUDan4G4uN7"
   },
   "outputs": [],
   "source": [
    "## converting data into tensors\n",
    "#tensor_y_1hot = tf.constant(data_y_1hot)\n",
    "#tensor_x = tf.constant(data_x)\n",
    "## splitting into train and test data\n",
    "x_train,y_train = np.take(data_x,[0,1,2],axis = 0),np.take(data_y_1hot,[0,1,2],axis = 0)\n",
    "\n",
    "x_val,y_val = np.take(data_x,[3,0],axis = 0),np.take(data_y_1hot,[3,0],axis = 0)"
   ]
  },
  {
   "cell_type": "code",
   "execution_count": 14,
   "metadata": {
    "colab": {
     "base_uri": "https://localhost:8080/",
     "height": 1000
    },
    "colab_type": "code",
    "id": "HaV5WJY34uWK",
    "outputId": "16da6d3d-c92b-4cce-f719-3386e0529c75"
   },
   "outputs": [
    {
     "name": "stdout",
     "output_type": "stream",
     "text": [
      "Model: \"model_1\"\n",
      "__________________________________________________________________________________________________\n",
      "Layer (type)                    Output Shape         Param #     Connected to                     \n",
      "==================================================================================================\n",
      "input_1 (InputLayer)            (None, 512, 512, 3)  0                                            \n",
      "__________________________________________________________________________________________________\n",
      "block1_conv1 (Conv2D)           (None, 512, 512, 64) 1792        input_1[0][0]                    \n",
      "__________________________________________________________________________________________________\n",
      "block1_conv2 (Conv2D)           (None, 512, 512, 64) 36928       block1_conv1[0][0]               \n",
      "__________________________________________________________________________________________________\n",
      "block1_pool (MaxPooling2D)      (None, 256, 256, 64) 0           block1_conv2[0][0]               \n",
      "__________________________________________________________________________________________________\n",
      "block2_conv1 (Conv2D)           (None, 256, 256, 128 73856       block1_pool[0][0]                \n",
      "__________________________________________________________________________________________________\n",
      "block2_conv2 (Conv2D)           (None, 256, 256, 128 147584      block2_conv1[0][0]               \n",
      "__________________________________________________________________________________________________\n",
      "block2_pool (MaxPooling2D)      (None, 128, 128, 128 0           block2_conv2[0][0]               \n",
      "__________________________________________________________________________________________________\n",
      "block3_conv1 (Conv2D)           (None, 128, 128, 256 295168      block2_pool[0][0]                \n",
      "__________________________________________________________________________________________________\n",
      "block3_conv2 (Conv2D)           (None, 128, 128, 256 590080      block3_conv1[0][0]               \n",
      "__________________________________________________________________________________________________\n",
      "block3_conv3 (Conv2D)           (None, 128, 128, 256 590080      block3_conv2[0][0]               \n",
      "__________________________________________________________________________________________________\n",
      "block3_pool (MaxPooling2D)      (None, 64, 64, 256)  0           block3_conv3[0][0]               \n",
      "__________________________________________________________________________________________________\n",
      "block4_conv1 (Conv2D)           (None, 64, 64, 512)  1180160     block3_pool[0][0]                \n",
      "__________________________________________________________________________________________________\n",
      "block4_conv2 (Conv2D)           (None, 64, 64, 512)  2359808     block4_conv1[0][0]               \n",
      "__________________________________________________________________________________________________\n",
      "block4_conv3 (Conv2D)           (None, 64, 64, 512)  2359808     block4_conv2[0][0]               \n",
      "__________________________________________________________________________________________________\n",
      "block4_pool (MaxPooling2D)      (None, 32, 32, 512)  0           block4_conv3[0][0]               \n",
      "__________________________________________________________________________________________________\n",
      "block5_conv1 (Conv2D)           (None, 32, 32, 512)  2359808     block4_pool[0][0]                \n",
      "__________________________________________________________________________________________________\n",
      "block5_conv2 (Conv2D)           (None, 32, 32, 512)  2359808     block5_conv1[0][0]               \n",
      "__________________________________________________________________________________________________\n",
      "block5_conv3 (Conv2D)           (None, 32, 32, 512)  2359808     block5_conv2[0][0]               \n",
      "__________________________________________________________________________________________________\n",
      "block5_pool (MaxPooling2D)      (None, 16, 16, 512)  0           block5_conv3[0][0]               \n",
      "__________________________________________________________________________________________________\n",
      "conv6 (Conv2D)                  (None, 16, 16, 4096) 102764544   block5_pool[0][0]                \n",
      "__________________________________________________________________________________________________\n",
      "conv7 (Conv2D)                  (None, 16, 16, 4096) 16781312    conv6[0][0]                      \n",
      "__________________________________________________________________________________________________\n",
      "deconv1 (Conv2DTranspose)       (None, 32, 32, 512)  33554944    conv7[0][0]                      \n",
      "__________________________________________________________________________________________________\n",
      "skip1 (Add)                     (None, 32, 32, 512)  0           deconv1[0][0]                    \n",
      "                                                                 block4_pool[0][0]                \n",
      "__________________________________________________________________________________________________\n",
      "deconv2 (Conv2DTranspose)       (None, 64, 64, 256)  2097408     skip1[0][0]                      \n",
      "__________________________________________________________________________________________________\n",
      "skip2 (Add)                     (None, 64, 64, 256)  0           deconv2[0][0]                    \n",
      "                                                                 block3_pool[0][0]                \n",
      "__________________________________________________________________________________________________\n",
      "deconv3 (Conv2DTranspose)       (None, 512, 512, 12) 786444      skip2[0][0]                      \n",
      "__________________________________________________________________________________________________\n",
      "activation_50 (Activation)      (None, 512, 512, 12) 0           deconv3[0][0]                    \n",
      "==================================================================================================\n",
      "Total params: 170,699,340\n",
      "Trainable params: 170,699,340\n",
      "Non-trainable params: 0\n",
      "__________________________________________________________________________________________________\n"
     ]
    }
   ],
   "source": [
    "Model = build_model('vgg16')\n"
   ]
  },
  {
   "cell_type": "code",
   "execution_count": 26,
   "metadata": {
    "colab": {
     "base_uri": "https://localhost:8080/",
     "height": 101
    },
    "colab_type": "code",
    "id": "ZR0I4ua17xuL",
    "outputId": "6461d3c4-f129-4267-bd35-ccabc7c897e0"
   },
   "outputs": [
    {
     "name": "stdout",
     "output_type": "stream",
     "text": [
      "Train on 3 samples, validate on 2 samples\n",
      "Epoch 1/2\n",
      "3/3 [==============================] - 41s 14s/step - loss: 390912.5417 - mIoU: 0.0207 - val_loss: 341256.8281 - val_mIoU: 0.0368\n",
      "Epoch 2/2\n",
      "3/3 [==============================] - 31s 10s/step - loss: 375612.1146 - mIoU: 0.0260 - val_loss: 384446.4688 - val_mIoU: 0.0231\n"
     ]
    }
   ],
   "source": [
    "trained_model = train_model(x_train,y_train,x_val,y_val,Model,batch_size = 1,epochs = 2)"
   ]
  },
  {
   "cell_type": "code",
   "execution_count": 0,
   "metadata": {
    "colab": {},
    "colab_type": "code",
    "id": "GTmsQT_T0nho"
   },
   "outputs": [],
   "source": [
    "pred = trained_model.predict(x_val,1)"
   ]
  },
  {
   "cell_type": "code",
   "execution_count": 0,
   "metadata": {
    "colab": {},
    "colab_type": "code",
    "id": "RXyLldrhyhzE"
   },
   "outputs": [],
   "source": []
  },
  {
   "cell_type": "code",
   "execution_count": 0,
   "metadata": {
    "colab": {
     "base_uri": "https://localhost:8080/",
     "height": 302
    },
    "colab_type": "code",
    "id": "RnJCEmb47xs8",
    "outputId": "b2077815-648a-4ce2-e4c2-924ddf17b3fc"
   },
   "outputs": [
    {
     "name": "stderr",
     "output_type": "stream",
     "text": [
      "Clipping input data to the valid range for imshow with RGB data ([0..1] for floats or [0..255] for integers).\n"
     ]
    },
    {
     "data": {
      "text/plain": [
       "<matplotlib.image.AxesImage at 0x7fcee9b6a828>"
      ]
     },
     "execution_count": 16,
     "metadata": {
      "tags": []
     },
     "output_type": "execute_result"
    },
    {
     "data": {
      "image/png": "[encoded data removed]",
      "text/plain": [
       "<Figure size 432x288 with 1 Axes>"
      ]
     },
     "metadata": {
      "tags": []
     },
     "output_type": "display_data"
    }
   ],
   "source": []
  },
  {
   "cell_type": "code",
   "execution_count": 0,
   "metadata": {
    "colab": {},
    "colab_type": "code",
    "id": "Q_rnf07r8ysT"
   },
   "outputs": [],
   "source": []
  },
  {
   "cell_type": "code",
   "execution_count": 0,
   "metadata": {
    "colab": {
     "base_uri": "https://localhost:8080/",
     "height": 34
    },
    "colab_type": "code",
    "id": "Clr-Utui4sJO",
    "outputId": "742824be-d199-4192-b73f-94c3376cc27a"
   },
   "outputs": [
    {
     "name": "stdout",
     "output_type": "stream",
     "text": [
      "[1 3 4]\n"
     ]
    }
   ],
   "source": []
  },
  {
   "cell_type": "code",
   "execution_count": 0,
   "metadata": {
    "colab": {},
    "colab_type": "code",
    "id": "dzdp4HSAJPjr"
   },
   "outputs": [],
   "source": []
  },
  {
   "cell_type": "code",
   "execution_count": 0,
   "metadata": {
    "colab": {},
    "colab_type": "code",
    "id": "kUGPyZfH8IGu"
   },
   "outputs": [],
   "source": []
  },
  {
   "cell_type": "code",
   "execution_count": 0,
   "metadata": {
    "colab": {},
    "colab_type": "code",
    "id": "HpPYTGUo9czH"
   },
   "outputs": [],
   "source": []
  },
  {
   "cell_type": "code",
   "execution_count": 0,
   "metadata": {
    "colab": {},
    "colab_type": "code",
    "id": "Ok8Ht_bgB828"
   },
   "outputs": [],
   "source": []
  },
  {
   "cell_type": "code",
   "execution_count": 0,
   "metadata": {
    "colab": {},
    "colab_type": "code",
    "id": "tLp2OfrpCA2E"
   },
   "outputs": [],
   "source": []
  },
  {
   "cell_type": "code",
   "execution_count": 0,
   "metadata": {
    "colab": {},
    "colab_type": "code",
    "id": "LBQgk3C5NBrh"
   },
   "outputs": [],
   "source": []
  }
 ],
 "metadata": {
  "colab": {
   "machine_shape": "hm",
   "name": "main_file.ipynb",
   "provenance": []
  },
  "kernelspec": {
   "display_name": "Python 3",
   "language": "python",
   "name": "python3"
  },
  "language_info": {
   "codemirror_mode": {
    "name": "ipython",
    "version": 3
   },
   "file_extension": ".py",
   "mimetype": "text/x-python",
   "name": "python",
   "nbconvert_exporter": "python",
   "pygments_lexer": "ipython3",
   "version": "3.7.1"
  }
 },
 "nbformat": 4,
 "nbformat_minor": 1
}
